{
 "cells": [
  {
   "cell_type": "code",
   "execution_count": 127,
   "metadata": {},
   "outputs": [],
   "source": [
    "import pandas as pd\n",
    "from sklearn.feature_extraction.text import TfidfVectorizer\n",
    "from sklearn.feature_extraction.text import CountVectorizer\n",
    "import nltk\n",
    "from sklearn.svm import OneClassSVM\n",
    "import numpy as np\n",
    "from scipy import sparse"
   ]
  },
  {
   "cell_type": "code",
   "execution_count": 128,
   "metadata": {},
   "outputs": [
    {
     "data": {
      "text/html": [
       "<div>\n",
       "<style scoped>\n",
       "    .dataframe tbody tr th:only-of-type {\n",
       "        vertical-align: middle;\n",
       "    }\n",
       "\n",
       "    .dataframe tbody tr th {\n",
       "        vertical-align: top;\n",
       "    }\n",
       "\n",
       "    .dataframe thead th {\n",
       "        text-align: right;\n",
       "    }\n",
       "</style>\n",
       "<table border=\"1\" class=\"dataframe\">\n",
       "  <thead>\n",
       "    <tr style=\"text-align: right;\">\n",
       "      <th></th>\n",
       "      <th>Text</th>\n",
       "      <th>Target</th>\n",
       "      <th>Polarity</th>\n",
       "      <th>Factual</th>\n",
       "      <th>User_ID</th>\n",
       "      <th>Tweet_ID</th>\n",
       "      <th>Tweet_Seq</th>\n",
       "      <th>POS</th>\n",
       "      <th>Mentions</th>\n",
       "      <th>Nouns</th>\n",
       "    </tr>\n",
       "  </thead>\n",
       "  <tbody>\n",
       "    <tr>\n",
       "      <th>0</th>\n",
       "      <td>Bolsonaro já tá avisando que vai acabar com a ...</td>\n",
       "      <td>r2_bo</td>\n",
       "      <td>0</td>\n",
       "      <td>no</td>\n",
       "      <td>r2_bo_299</td>\n",
       "      <td>_1250880546441515010</td>\n",
       "      <td>5475</td>\n",
       "      <td>[('bolsonaro', 'N'), ('já', 'ADV'), ('tá', 'V'...</td>\n",
       "      <td>[]</td>\n",
       "      <td>{'bolsonaro': 1, 'economia': 1, 'quarentena': ...</td>\n",
       "    </tr>\n",
       "    <tr>\n",
       "      <th>1</th>\n",
       "      <td>HIPOCRISIA É MATO, HOMOFOBIA MATA, IGNORÂNCIA ...</td>\n",
       "      <td>r2_bo</td>\n",
       "      <td>0</td>\n",
       "      <td>no</td>\n",
       "      <td>r2_bo_99</td>\n",
       "      <td>_1192689402209812480</td>\n",
       "      <td>4167</td>\n",
       "      <td>[('hipocrisia', 'N'), ('é', 'V'), ('mato', 'N'...</td>\n",
       "      <td>['drikbarbosa']</td>\n",
       "      <td>{'drikbarbosa': 1, 'bolsonaro': 1, 'hipocrisia...</td>\n",
       "    </tr>\n",
       "    <tr>\n",
       "      <th>2</th>\n",
       "      <td>Essa traíra pegou carona, está com inveja de J...</td>\n",
       "      <td>r2_bo</td>\n",
       "      <td>1</td>\n",
       "      <td>no</td>\n",
       "      <td>r2_bo_734</td>\n",
       "      <td>_1238107652556836864</td>\n",
       "      <td>1499</td>\n",
       "      <td>[('essa', 'PROADJ'), ('traíra', 'N'), ('pegou'...</td>\n",
       "      <td>['joicehasselmann']</td>\n",
       "      <td>{'traíra': 1, 'inveja': 1, 'figura': 1, 'caron...</td>\n",
       "    </tr>\n",
       "    <tr>\n",
       "      <th>3</th>\n",
       "      <td>Não me deixem só!”: Fora de controle, Bolsonar...</td>\n",
       "      <td>r2_bo</td>\n",
       "      <td>0</td>\n",
       "      <td>no</td>\n",
       "      <td>r2_bo_75</td>\n",
       "      <td>_1233897043426529280</td>\n",
       "      <td>2720</td>\n",
       "      <td>[('“', 'N'), ('não', 'ADV'), ('me', 'PROPESS')...</td>\n",
       "      <td>[]</td>\n",
       "      <td>{'controle': 1, 'bolsonaro': 1, 'collor': 1, '...</td>\n",
       "    </tr>\n",
       "    <tr>\n",
       "      <th>4</th>\n",
       "      <td>ADEMAR EU FIZ UMAS POSTAGENS A RESPEITO HOJE D...</td>\n",
       "      <td>r2_bo</td>\n",
       "      <td>1</td>\n",
       "      <td>no</td>\n",
       "      <td>r2_bo_737</td>\n",
       "      <td>_1159733091583369216</td>\n",
       "      <td>1364</td>\n",
       "      <td>[('&gt;', 'N'), ('&gt;', 'PU'), ('ademar', 'NPROP'),...</td>\n",
       "      <td>['jairbolsonaro']</td>\n",
       "      <td>{'life': 1, 'apoio': 1, 'sucesso': 1, 'guedes'...</td>\n",
       "    </tr>\n",
       "    <tr>\n",
       "      <th>...</th>\n",
       "      <td>...</td>\n",
       "      <td>...</td>\n",
       "      <td>...</td>\n",
       "      <td>...</td>\n",
       "      <td>...</td>\n",
       "      <td>...</td>\n",
       "      <td>...</td>\n",
       "      <td>...</td>\n",
       "      <td>...</td>\n",
       "      <td>...</td>\n",
       "    </tr>\n",
       "    <tr>\n",
       "      <th>7055</th>\n",
       "      <td>Já estamos em 2019 e sob nova direção. bolsona...</td>\n",
       "      <td>r2_bo</td>\n",
       "      <td>1</td>\n",
       "      <td>no</td>\n",
       "      <td>r2_bo_722</td>\n",
       "      <td>_1079924121528659968</td>\n",
       "      <td>187</td>\n",
       "      <td>[('já', 'ADV'), ('estamos', 'V'), ('em', 'PREP...</td>\n",
       "      <td>['jairbolsonaro']</td>\n",
       "      <td>{'deus': 1, 'jairbolsonaro': 1, 'direção': 1, ...</td>\n",
       "    </tr>\n",
       "    <tr>\n",
       "      <th>7056</th>\n",
       "      <td>Isso mesmo irmã o demônio esta cada vez mais f...</td>\n",
       "      <td>r2_bo</td>\n",
       "      <td>1</td>\n",
       "      <td>no</td>\n",
       "      <td>r2_bo_569</td>\n",
       "      <td>_1163621156022378497</td>\n",
       "      <td>1920</td>\n",
       "      <td>[('isso', 'PROSUB'), ('mesmo', 'PDEN'), ('irmã...</td>\n",
       "      <td>[]</td>\n",
       "      <td>{'vez': 1, 'demônio': 1, 'irmã': 1, 'meios': 1}</td>\n",
       "    </tr>\n",
       "    <tr>\n",
       "      <th>7057</th>\n",
       "      <td>Não faz sentido não, mas por favor deixe bem c...</td>\n",
       "      <td>r2_bo</td>\n",
       "      <td>1</td>\n",
       "      <td>no</td>\n",
       "      <td>r2_bo_723</td>\n",
       "      <td>_1197920726377996289</td>\n",
       "      <td>2410</td>\n",
       "      <td>[('sem', 'PREP'), ('contar', 'V'), ('que', 'KS...</td>\n",
       "      <td>['jairbolsonaro']</td>\n",
       "      <td>{'pessoas': 1, 'país': 1, 'culpa': 1, 'ignorân...</td>\n",
       "    </tr>\n",
       "    <tr>\n",
       "      <th>7058</th>\n",
       "      <td>PQP!!!Até quando vamos ter que aturar essa gen...</td>\n",
       "      <td>r2_bo</td>\n",
       "      <td>1</td>\n",
       "      <td>no</td>\n",
       "      <td>r2_bo_702</td>\n",
       "      <td>_1114994812502073344</td>\n",
       "      <td>470</td>\n",
       "      <td>[('pqp', 'IN'), ('!', 'PU'), ('!', 'PU'), ('!'...</td>\n",
       "      <td>[]</td>\n",
       "      <td>{'militância': 1, 'governo': 1, 'bolsonaro': 1...</td>\n",
       "    </tr>\n",
       "    <tr>\n",
       "      <th>7059</th>\n",
       "      <td>kkkkkkkk,Bolsonaro apesar de vocês está fazend...</td>\n",
       "      <td>r2_bo</td>\n",
       "      <td>1</td>\n",
       "      <td>no</td>\n",
       "      <td>r2_bo_702</td>\n",
       "      <td>_1110514443694297088</td>\n",
       "      <td>198</td>\n",
       "      <td>[('kkkkkkkk', 'PDEN'), (',', 'PU'), ('bolsonar...</td>\n",
       "      <td>[]</td>\n",
       "      <td>{'governo': 1, 'brasil': 1, 'história': 1, 'mu...</td>\n",
       "    </tr>\n",
       "  </tbody>\n",
       "</table>\n",
       "<p>7060 rows × 10 columns</p>\n",
       "</div>"
      ],
      "text/plain": [
       "                                                   Text Target  Polarity  \\\n",
       "0     Bolsonaro já tá avisando que vai acabar com a ...  r2_bo         0   \n",
       "1     HIPOCRISIA É MATO, HOMOFOBIA MATA, IGNORÂNCIA ...  r2_bo         0   \n",
       "2     Essa traíra pegou carona, está com inveja de J...  r2_bo         1   \n",
       "3     Não me deixem só!”: Fora de controle, Bolsonar...  r2_bo         0   \n",
       "4     ADEMAR EU FIZ UMAS POSTAGENS A RESPEITO HOJE D...  r2_bo         1   \n",
       "...                                                 ...    ...       ...   \n",
       "7055  Já estamos em 2019 e sob nova direção. bolsona...  r2_bo         1   \n",
       "7056  Isso mesmo irmã o demônio esta cada vez mais f...  r2_bo         1   \n",
       "7057  Não faz sentido não, mas por favor deixe bem c...  r2_bo         1   \n",
       "7058  PQP!!!Até quando vamos ter que aturar essa gen...  r2_bo         1   \n",
       "7059  kkkkkkkk,Bolsonaro apesar de vocês está fazend...  r2_bo         1   \n",
       "\n",
       "     Factual    User_ID              Tweet_ID  Tweet_Seq  \\\n",
       "0         no  r2_bo_299  _1250880546441515010       5475   \n",
       "1         no   r2_bo_99  _1192689402209812480       4167   \n",
       "2         no  r2_bo_734  _1238107652556836864       1499   \n",
       "3         no   r2_bo_75  _1233897043426529280       2720   \n",
       "4         no  r2_bo_737  _1159733091583369216       1364   \n",
       "...      ...        ...                   ...        ...   \n",
       "7055      no  r2_bo_722  _1079924121528659968        187   \n",
       "7056      no  r2_bo_569  _1163621156022378497       1920   \n",
       "7057      no  r2_bo_723  _1197920726377996289       2410   \n",
       "7058      no  r2_bo_702  _1114994812502073344        470   \n",
       "7059      no  r2_bo_702  _1110514443694297088        198   \n",
       "\n",
       "                                                    POS             Mentions  \\\n",
       "0     [('bolsonaro', 'N'), ('já', 'ADV'), ('tá', 'V'...                   []   \n",
       "1     [('hipocrisia', 'N'), ('é', 'V'), ('mato', 'N'...      ['drikbarbosa']   \n",
       "2     [('essa', 'PROADJ'), ('traíra', 'N'), ('pegou'...  ['joicehasselmann']   \n",
       "3     [('“', 'N'), ('não', 'ADV'), ('me', 'PROPESS')...                   []   \n",
       "4     [('>', 'N'), ('>', 'PU'), ('ademar', 'NPROP'),...    ['jairbolsonaro']   \n",
       "...                                                 ...                  ...   \n",
       "7055  [('já', 'ADV'), ('estamos', 'V'), ('em', 'PREP...    ['jairbolsonaro']   \n",
       "7056  [('isso', 'PROSUB'), ('mesmo', 'PDEN'), ('irmã...                   []   \n",
       "7057  [('sem', 'PREP'), ('contar', 'V'), ('que', 'KS...    ['jairbolsonaro']   \n",
       "7058  [('pqp', 'IN'), ('!', 'PU'), ('!', 'PU'), ('!'...                   []   \n",
       "7059  [('kkkkkkkk', 'PDEN'), (',', 'PU'), ('bolsonar...                   []   \n",
       "\n",
       "                                                  Nouns  \n",
       "0     {'bolsonaro': 1, 'economia': 1, 'quarentena': ...  \n",
       "1     {'drikbarbosa': 1, 'bolsonaro': 1, 'hipocrisia...  \n",
       "2     {'traíra': 1, 'inveja': 1, 'figura': 1, 'caron...  \n",
       "3     {'controle': 1, 'bolsonaro': 1, 'collor': 1, '...  \n",
       "4     {'life': 1, 'apoio': 1, 'sucesso': 1, 'guedes'...  \n",
       "...                                                 ...  \n",
       "7055  {'deus': 1, 'jairbolsonaro': 1, 'direção': 1, ...  \n",
       "7056    {'vez': 1, 'demônio': 1, 'irmã': 1, 'meios': 1}  \n",
       "7057  {'pessoas': 1, 'país': 1, 'culpa': 1, 'ignorân...  \n",
       "7058  {'militância': 1, 'governo': 1, 'bolsonaro': 1...  \n",
       "7059  {'governo': 1, 'brasil': 1, 'história': 1, 'mu...  \n",
       "\n",
       "[7060 rows x 10 columns]"
      ]
     },
     "execution_count": 128,
     "metadata": {},
     "output_type": "execute_result"
    }
   ],
   "source": [
    "df_train = pd.read_csv(r'C:\\Users\\camil\\OneDrive\\Área de Trabalho\\mestrado\\treino\\r2_bo_train_statements.csv', sep=';')\n",
    "df_train = df_train.drop(df_train[df_train.Polarity =='other'].index)\n",
    "df_train.Polarity.replace(('for', 'against'), (1,0), inplace=True)\n",
    "df_train = df_train.sample(frac=1).reset_index(drop=True)\n",
    "df_train"
   ]
  },
  {
   "cell_type": "code",
   "execution_count": 129,
   "metadata": {},
   "outputs": [
    {
     "data": {
      "text/html": [
       "<div>\n",
       "<style scoped>\n",
       "    .dataframe tbody tr th:only-of-type {\n",
       "        vertical-align: middle;\n",
       "    }\n",
       "\n",
       "    .dataframe tbody tr th {\n",
       "        vertical-align: top;\n",
       "    }\n",
       "\n",
       "    .dataframe thead th {\n",
       "        text-align: right;\n",
       "    }\n",
       "</style>\n",
       "<table border=\"1\" class=\"dataframe\">\n",
       "  <thead>\n",
       "    <tr style=\"text-align: right;\">\n",
       "      <th></th>\n",
       "      <th>Text</th>\n",
       "      <th>Target</th>\n",
       "      <th>Polarity</th>\n",
       "      <th>Factual</th>\n",
       "      <th>User_ID</th>\n",
       "      <th>Tweet_ID</th>\n",
       "      <th>Tweet_Seq</th>\n",
       "      <th>POS</th>\n",
       "      <th>Mentions</th>\n",
       "      <th>Nouns</th>\n",
       "    </tr>\n",
       "  </thead>\n",
       "  <tbody>\n",
       "    <tr>\n",
       "      <th>0</th>\n",
       "      <td>A estupidez canhota não tem limites. A não ser...</td>\n",
       "      <td>r2_bo</td>\n",
       "      <td>1</td>\n",
       "      <td>no</td>\n",
       "      <td>r2_bo_724</td>\n",
       "      <td>_1092731615892127744</td>\n",
       "      <td>434</td>\n",
       "      <td>[('a', 'ART'), ('estupidez', 'N'), ('canhota',...</td>\n",
       "      <td>[]</td>\n",
       "      <td>{'estupidez': 1, 'limites': 1, 'direita': 1, '...</td>\n",
       "    </tr>\n",
       "    <tr>\n",
       "      <th>1</th>\n",
       "      <td>Bolsonaro é um merda. Esse eh o Tweet</td>\n",
       "      <td>r2_bo</td>\n",
       "      <td>0</td>\n",
       "      <td>no</td>\n",
       "      <td>r2_bo_91</td>\n",
       "      <td>_1250881841067941892</td>\n",
       "      <td>4733</td>\n",
       "      <td>[('bolsonaro', 'N'), ('é', 'V'), ('um', 'ART')...</td>\n",
       "      <td>[]</td>\n",
       "      <td>{'merda': 1, 'bolsonaro': 1, 'tweet': 1}</td>\n",
       "    </tr>\n",
       "    <tr>\n",
       "      <th>2</th>\n",
       "      <td>Acho que o futuro presidente poderia pensar na...</td>\n",
       "      <td>r2_bo</td>\n",
       "      <td>1</td>\n",
       "      <td>no</td>\n",
       "      <td>r2_bo_103</td>\n",
       "      <td>_1066757601575227393</td>\n",
       "      <td>28</td>\n",
       "      <td>[('acho', 'V'), ('que', 'KS'), ('o', 'ART'), (...</td>\n",
       "      <td>['jairbolsonaro']</td>\n",
       "      <td>{'povo': 2, 'plataforma': 1, 'intuito': 1, 'go...</td>\n",
       "    </tr>\n",
       "    <tr>\n",
       "      <th>3</th>\n",
       "      <td>Esse @ nunca foi apoiador de Jair Messias Bols...</td>\n",
       "      <td>r2_bo</td>\n",
       "      <td>1</td>\n",
       "      <td>no</td>\n",
       "      <td>r2_bo_734</td>\n",
       "      <td>_1264189677168472064</td>\n",
       "      <td>2005</td>\n",
       "      <td>[('esse', 'PROADJ'), ('@', 'NUM'), ('datenaofi...</td>\n",
       "      <td>['datenaoficial']</td>\n",
       "      <td>{'datenaoficial': 1, 'picareta': 1, 'máscara':...</td>\n",
       "    </tr>\n",
       "    <tr>\n",
       "      <th>4</th>\n",
       "      <td>Nosso Guerreiro é iluminado. Deus cuide de nos...</td>\n",
       "      <td>r2_bo</td>\n",
       "      <td>1</td>\n",
       "      <td>no</td>\n",
       "      <td>r2_bo_733</td>\n",
       "      <td>_1253090110159101953</td>\n",
       "      <td>427</td>\n",
       "      <td>[('nosso', 'PROADJ'), ('guerreiro', 'N'), ('é'...</td>\n",
       "      <td>[]</td>\n",
       "      <td>{'guerreiro': 1, 'deus': 1, 'presidente': 1}</td>\n",
       "    </tr>\n",
       "    <tr>\n",
       "      <th>...</th>\n",
       "      <td>...</td>\n",
       "      <td>...</td>\n",
       "      <td>...</td>\n",
       "      <td>...</td>\n",
       "      <td>...</td>\n",
       "      <td>...</td>\n",
       "      <td>...</td>\n",
       "      <td>...</td>\n",
       "      <td>...</td>\n",
       "      <td>...</td>\n",
       "    </tr>\n",
       "    <tr>\n",
       "      <th>2349</th>\n",
       "      <td>CARLA, ESPERAMOS QUE O bolsonaro NÃO DIVIDA O ...</td>\n",
       "      <td>r2_bo</td>\n",
       "      <td>1</td>\n",
       "      <td>no</td>\n",
       "      <td>r2_bo_737</td>\n",
       "      <td>_1220432211276595201</td>\n",
       "      <td>2695</td>\n",
       "      <td>[('&gt;', 'N'), ('&gt;', 'N'), ('carla', 'N'), (',',...</td>\n",
       "      <td>['sf_moro', 'sf_moro', 'pauloguedesbr']</td>\n",
       "      <td>{'sf_moro': 2, 'escolha': 1, 'sucesso': 1, 'pa...</td>\n",
       "    </tr>\n",
       "    <tr>\n",
       "      <th>2350</th>\n",
       "      <td>Canalhas mil vezes canalhas !! Realmente o neg...</td>\n",
       "      <td>r2_bo</td>\n",
       "      <td>1</td>\n",
       "      <td>no</td>\n",
       "      <td>r2_bo_735</td>\n",
       "      <td>_1260213220440190979</td>\n",
       "      <td>1693</td>\n",
       "      <td>[('canalhas', 'N'), ('mil', 'NUM'), ('vezes', ...</td>\n",
       "      <td>[]</td>\n",
       "      <td>{'bandidos': 2, 'vcs': 2, 'canalhas': 1, 'bols...</td>\n",
       "    </tr>\n",
       "    <tr>\n",
       "      <th>2351</th>\n",
       "      <td>Eu fico pensando como as meninas que moram no ...</td>\n",
       "      <td>r2_bo</td>\n",
       "      <td>0</td>\n",
       "      <td>no</td>\n",
       "      <td>r2_bo_693</td>\n",
       "      <td>_1254160331754086400</td>\n",
       "      <td>3839</td>\n",
       "      <td>[('eu', 'PROPESS'), ('fico', 'V'), ('pensando'...</td>\n",
       "      <td>[]</td>\n",
       "      <td>{'condomínio': 1, 'bolsonaro': 1, 'meninas': 1}</td>\n",
       "    </tr>\n",
       "    <tr>\n",
       "      <th>2352</th>\n",
       "      <td>bolsonaroístas\" podem ser chamados aqueles que...</td>\n",
       "      <td>r2_bo</td>\n",
       "      <td>0</td>\n",
       "      <td>no</td>\n",
       "      <td>r2_bo_559</td>\n",
       "      <td>_724328704663494656</td>\n",
       "      <td>1592</td>\n",
       "      <td>[('``', 'N'), ('bolsonaroístas', 'N'), (\"''\", ...</td>\n",
       "      <td>[]</td>\n",
       "      <td>{'torturadores': 1, 'bolsonaro': 1, 'bolsonaro...</td>\n",
       "    </tr>\n",
       "    <tr>\n",
       "      <th>2353</th>\n",
       "      <td>GENERAIS SE RECUSARAM A IR A MANIFESTAÇÃO PRÓ-...</td>\n",
       "      <td>r2_bo</td>\n",
       "      <td>0</td>\n",
       "      <td>no</td>\n",
       "      <td>r2_bo_75</td>\n",
       "      <td>_1253052865842561025</td>\n",
       "      <td>4139</td>\n",
       "      <td>[('generais', 'N'), ('se', 'PROPESS'), ('recus...</td>\n",
       "      <td>['youtube']</td>\n",
       "      <td>{'stj': 1, 'generais': 1, 'ma': 1, 'youtube': ...</td>\n",
       "    </tr>\n",
       "  </tbody>\n",
       "</table>\n",
       "<p>2354 rows × 10 columns</p>\n",
       "</div>"
      ],
      "text/plain": [
       "                                                   Text Target  Polarity  \\\n",
       "0     A estupidez canhota não tem limites. A não ser...  r2_bo         1   \n",
       "1                 Bolsonaro é um merda. Esse eh o Tweet  r2_bo         0   \n",
       "2     Acho que o futuro presidente poderia pensar na...  r2_bo         1   \n",
       "3     Esse @ nunca foi apoiador de Jair Messias Bols...  r2_bo         1   \n",
       "4     Nosso Guerreiro é iluminado. Deus cuide de nos...  r2_bo         1   \n",
       "...                                                 ...    ...       ...   \n",
       "2349  CARLA, ESPERAMOS QUE O bolsonaro NÃO DIVIDA O ...  r2_bo         1   \n",
       "2350  Canalhas mil vezes canalhas !! Realmente o neg...  r2_bo         1   \n",
       "2351  Eu fico pensando como as meninas que moram no ...  r2_bo         0   \n",
       "2352  bolsonaroístas\" podem ser chamados aqueles que...  r2_bo         0   \n",
       "2353  GENERAIS SE RECUSARAM A IR A MANIFESTAÇÃO PRÓ-...  r2_bo         0   \n",
       "\n",
       "     Factual    User_ID              Tweet_ID  Tweet_Seq  \\\n",
       "0         no  r2_bo_724  _1092731615892127744        434   \n",
       "1         no   r2_bo_91  _1250881841067941892       4733   \n",
       "2         no  r2_bo_103  _1066757601575227393         28   \n",
       "3         no  r2_bo_734  _1264189677168472064       2005   \n",
       "4         no  r2_bo_733  _1253090110159101953        427   \n",
       "...      ...        ...                   ...        ...   \n",
       "2349      no  r2_bo_737  _1220432211276595201       2695   \n",
       "2350      no  r2_bo_735  _1260213220440190979       1693   \n",
       "2351      no  r2_bo_693  _1254160331754086400       3839   \n",
       "2352      no  r2_bo_559   _724328704663494656       1592   \n",
       "2353      no   r2_bo_75  _1253052865842561025       4139   \n",
       "\n",
       "                                                    POS  \\\n",
       "0     [('a', 'ART'), ('estupidez', 'N'), ('canhota',...   \n",
       "1     [('bolsonaro', 'N'), ('é', 'V'), ('um', 'ART')...   \n",
       "2     [('acho', 'V'), ('que', 'KS'), ('o', 'ART'), (...   \n",
       "3     [('esse', 'PROADJ'), ('@', 'NUM'), ('datenaofi...   \n",
       "4     [('nosso', 'PROADJ'), ('guerreiro', 'N'), ('é'...   \n",
       "...                                                 ...   \n",
       "2349  [('>', 'N'), ('>', 'N'), ('carla', 'N'), (',',...   \n",
       "2350  [('canalhas', 'N'), ('mil', 'NUM'), ('vezes', ...   \n",
       "2351  [('eu', 'PROPESS'), ('fico', 'V'), ('pensando'...   \n",
       "2352  [('``', 'N'), ('bolsonaroístas', 'N'), (\"''\", ...   \n",
       "2353  [('generais', 'N'), ('se', 'PROPESS'), ('recus...   \n",
       "\n",
       "                                     Mentions  \\\n",
       "0                                          []   \n",
       "1                                          []   \n",
       "2                           ['jairbolsonaro']   \n",
       "3                           ['datenaoficial']   \n",
       "4                                          []   \n",
       "...                                       ...   \n",
       "2349  ['sf_moro', 'sf_moro', 'pauloguedesbr']   \n",
       "2350                                       []   \n",
       "2351                                       []   \n",
       "2352                                       []   \n",
       "2353                              ['youtube']   \n",
       "\n",
       "                                                  Nouns  \n",
       "0     {'estupidez': 1, 'limites': 1, 'direita': 1, '...  \n",
       "1              {'merda': 1, 'bolsonaro': 1, 'tweet': 1}  \n",
       "2     {'povo': 2, 'plataforma': 1, 'intuito': 1, 'go...  \n",
       "3     {'datenaoficial': 1, 'picareta': 1, 'máscara':...  \n",
       "4          {'guerreiro': 1, 'deus': 1, 'presidente': 1}  \n",
       "...                                                 ...  \n",
       "2349  {'sf_moro': 2, 'escolha': 1, 'sucesso': 1, 'pa...  \n",
       "2350  {'bandidos': 2, 'vcs': 2, 'canalhas': 1, 'bols...  \n",
       "2351    {'condomínio': 1, 'bolsonaro': 1, 'meninas': 1}  \n",
       "2352  {'torturadores': 1, 'bolsonaro': 1, 'bolsonaro...  \n",
       "2353  {'stj': 1, 'generais': 1, 'ma': 1, 'youtube': ...  \n",
       "\n",
       "[2354 rows x 10 columns]"
      ]
     },
     "execution_count": 129,
     "metadata": {},
     "output_type": "execute_result"
    }
   ],
   "source": [
    "df_test = pd.read_csv(r'C:\\Users\\camil\\OneDrive\\Área de Trabalho\\mestrado\\Teste\\r2_bo_test_statements.csv', sep=';')\n",
    "df_test = df_test.drop(df_test[df_test.Polarity =='other'].index)\n",
    "df_test.Polarity.replace(('for', 'against'), (1,0), inplace=True)\n",
    "df_test = df_test.sample(frac=1).reset_index(drop=True)\n",
    "df_test"
   ]
  },
  {
   "cell_type": "code",
   "execution_count": 130,
   "metadata": {},
   "outputs": [
    {
     "data": {
      "text/html": [
       "<div>\n",
       "<style scoped>\n",
       "    .dataframe tbody tr th:only-of-type {\n",
       "        vertical-align: middle;\n",
       "    }\n",
       "\n",
       "    .dataframe tbody tr th {\n",
       "        vertical-align: top;\n",
       "    }\n",
       "\n",
       "    .dataframe thead th {\n",
       "        text-align: right;\n",
       "    }\n",
       "</style>\n",
       "<table border=\"1\" class=\"dataframe\">\n",
       "  <thead>\n",
       "    <tr style=\"text-align: right;\">\n",
       "      <th></th>\n",
       "      <th>Unnamed: 0</th>\n",
       "      <th>Text</th>\n",
       "    </tr>\n",
       "  </thead>\n",
       "  <tbody>\n",
       "    <tr>\n",
       "      <th>0</th>\n",
       "      <td>0</td>\n",
       "      <td>isso me lembra eu anto e bruna discutindo c o ...</td>\n",
       "    </tr>\n",
       "    <tr>\n",
       "      <th>1</th>\n",
       "      <td>1</td>\n",
       "      <td>bolsonaro fdp acabando c a maconha esse país t...</td>\n",
       "    </tr>\n",
       "    <tr>\n",
       "      <th>2</th>\n",
       "      <td>2</td>\n",
       "      <td>Bolsonaro 2018? — No dia das eleições eu ainda...</td>\n",
       "    </tr>\n",
       "    <tr>\n",
       "      <th>3</th>\n",
       "      <td>3</td>\n",
       "      <td>Eu amo o Bolsonaro</td>\n",
       "    </tr>\n",
       "    <tr>\n",
       "      <th>4</th>\n",
       "      <td>4</td>\n",
       "      <td>acabou os seiscentao do bolsonaro entao amanha...</td>\n",
       "    </tr>\n",
       "    <tr>\n",
       "      <th>...</th>\n",
       "      <td>...</td>\n",
       "      <td>...</td>\n",
       "    </tr>\n",
       "    <tr>\n",
       "      <th>31990</th>\n",
       "      <td>31990</td>\n",
       "      <td>Eu conto 0 items dessa lista no governo Bolson...</td>\n",
       "    </tr>\n",
       "    <tr>\n",
       "      <th>31991</th>\n",
       "      <td>31991</td>\n",
       "      <td>Não existe comparação nenhuma entre os últimos...</td>\n",
       "    </tr>\n",
       "    <tr>\n",
       "      <th>31992</th>\n",
       "      <td>31992</td>\n",
       "      <td>Sendo sincero: seria injusto até comparar a ca...</td>\n",
       "    </tr>\n",
       "    <tr>\n",
       "      <th>31993</th>\n",
       "      <td>31993</td>\n",
       "      <td>Eu vou ser sinceros com vcs: eu não acho que n...</td>\n",
       "    </tr>\n",
       "    <tr>\n",
       "      <th>31994</th>\n",
       "      <td>31994</td>\n",
       "      <td>Esse vídeo da reunião dos ministros eh um absu...</td>\n",
       "    </tr>\n",
       "  </tbody>\n",
       "</table>\n",
       "<p>31995 rows × 2 columns</p>\n",
       "</div>"
      ],
      "text/plain": [
       "       Unnamed: 0                                               Text\n",
       "0               0  isso me lembra eu anto e bruna discutindo c o ...\n",
       "1               1  bolsonaro fdp acabando c a maconha esse país t...\n",
       "2               2  Bolsonaro 2018? — No dia das eleições eu ainda...\n",
       "3               3                                 Eu amo o Bolsonaro\n",
       "4               4  acabou os seiscentao do bolsonaro entao amanha...\n",
       "...           ...                                                ...\n",
       "31990       31990  Eu conto 0 items dessa lista no governo Bolson...\n",
       "31991       31991  Não existe comparação nenhuma entre os últimos...\n",
       "31992       31992  Sendo sincero: seria injusto até comparar a ca...\n",
       "31993       31993  Eu vou ser sinceros com vcs: eu não acho que n...\n",
       "31994       31994  Esse vídeo da reunião dos ministros eh um absu...\n",
       "\n",
       "[31995 rows x 2 columns]"
      ]
     },
     "execution_count": 130,
     "metadata": {},
     "output_type": "execute_result"
    }
   ],
   "source": [
    "#carregando unlabeled data\n",
    "df_u = pd.read_csv(r'C:/Users/camil/OneDrive/Área de Trabalho/mestrado/Unlabeled/bolsonaro.csv')\n",
    "#df_u = df.sample(frac=1).reset_index(drop=True)\n",
    "df_u"
   ]
  },
  {
   "cell_type": "code",
   "execution_count": 131,
   "metadata": {},
   "outputs": [],
   "source": [
    "rows_train = len(df_train.index)\n",
    "rows_test = len(df_test.index)\n",
    "rows_label=rows_train+rows_test"
   ]
  },
  {
   "cell_type": "code",
   "execution_count": 132,
   "metadata": {},
   "outputs": [
    {
     "data": {
      "text/plain": [
       "31995"
      ]
     },
     "execution_count": 132,
     "metadata": {},
     "output_type": "execute_result"
    }
   ],
   "source": [
    "rows_unlabel = len(df_u.index)\n",
    "rows_unlabel"
   ]
  },
  {
   "cell_type": "code",
   "execution_count": 133,
   "metadata": {},
   "outputs": [
    {
     "data": {
      "text/plain": [
       "0        Bolsonaro já tá avisando que vai acabar com a ...\n",
       "1        HIPOCRISIA É MATO, HOMOFOBIA MATA, IGNORÂNCIA ...\n",
       "2        Essa traíra pegou carona, está com inveja de J...\n",
       "3        Não me deixem só!”: Fora de controle, Bolsonar...\n",
       "4        ADEMAR EU FIZ UMAS POSTAGENS A RESPEITO HOJE D...\n",
       "                               ...                        \n",
       "31990    Eu conto 0 items dessa lista no governo Bolson...\n",
       "31991    Não existe comparação nenhuma entre os últimos...\n",
       "31992    Sendo sincero: seria injusto até comparar a ca...\n",
       "31993    Eu vou ser sinceros com vcs: eu não acho que n...\n",
       "31994    Esse vídeo da reunião dos ministros eh um absu...\n",
       "Name: Text, Length: 41409, dtype: object"
      ]
     },
     "execution_count": 133,
     "metadata": {},
     "output_type": "execute_result"
    }
   ],
   "source": [
    "frames = [df_train.Text, df_test.Text, df_u.Text]\n",
    "X = pd.concat(frames)\n",
    "X"
   ]
  },
  {
   "cell_type": "code",
   "execution_count": 134,
   "metadata": {},
   "outputs": [],
   "source": [
    "#vetoriza conjunto completo\n",
    "from sklearn.feature_extraction.text import TfidfTransformer\n",
    "#count_vect = CountVectorizer( )\n",
    "#X_counts = count_vect.fit_transform(X)\n",
    "#X_counts.shape"
   ]
  },
  {
   "cell_type": "code",
   "execution_count": 135,
   "metadata": {},
   "outputs": [
    {
     "data": {
      "text/plain": [
       "(41409, 26536)"
      ]
     },
     "execution_count": 135,
     "metadata": {},
     "output_type": "execute_result"
    }
   ],
   "source": [
    "#tf_transformer = TfidfTransformer(use_idf=False).fit(X_counts)\n",
    "from sklearn.feature_extraction.text import TfidfTransformer\n",
    "vect = TfidfVectorizer(ngram_range=(2, 3),analyzer='char').fit(X)\n",
    "\n",
    "X_tf = vect.transform(X)\n",
    "X_tf.shape\n",
    "X_ori = X_tf\n",
    "#y_ori = df_train.Polarity\n",
    "X_ori.shape"
   ]
  },
  {
   "cell_type": "code",
   "execution_count": 136,
   "metadata": {},
   "outputs": [
    {
     "data": {
      "text/plain": [
       "(2354, 26536)"
      ]
     },
     "execution_count": 136,
     "metadata": {},
     "output_type": "execute_result"
    }
   ],
   "source": [
    "x_train = X_ori[0:rows_train,:]\n",
    "x_test = X_ori[rows_train:rows_train+rows_test,:]\n",
    "x_test.shape\n"
   ]
  },
  {
   "cell_type": "code",
   "execution_count": 137,
   "metadata": {},
   "outputs": [
    {
     "data": {
      "text/plain": [
       "(2354,)"
      ]
     },
     "execution_count": 137,
     "metadata": {},
     "output_type": "execute_result"
    }
   ],
   "source": [
    "#y_ori = df.Polarity\n",
    "y_train = df_train.Polarity\n",
    "y_test = df_test.Polarity\n",
    "y_test.shape"
   ]
  },
  {
   "cell_type": "code",
   "execution_count": 138,
   "metadata": {},
   "outputs": [
    {
     "data": {
      "text/plain": [
       "0.7880203908241291"
      ]
     },
     "execution_count": 138,
     "metadata": {},
     "output_type": "execute_result"
    }
   ],
   "source": [
    "#classificação\n",
    "from sklearn.linear_model import LogisticRegression\n",
    "from sklearn.metrics import f1_score\n",
    "from sklearn.metrics import accuracy_score\n",
    "from sklearn.metrics import precision_score\n",
    "from sklearn.metrics import recall_score\n",
    "model = LogisticRegression(random_state=0)\n",
    "model.fit(x_train,y_train)\n",
    "pred_values = model.predict(x_test)     \n",
    "acc = accuracy_score(pred_values , y_test)\n",
    "acc"
   ]
  },
  {
   "cell_type": "code",
   "execution_count": 139,
   "metadata": {},
   "outputs": [
    {
     "data": {
      "text/plain": [
       "0.7711577743598037"
      ]
     },
     "execution_count": 139,
     "metadata": {},
     "output_type": "execute_result"
    }
   ],
   "source": [
    "f1_score(y_test, pred_values, average='macro')"
   ]
  },
  {
   "cell_type": "code",
   "execution_count": 140,
   "metadata": {},
   "outputs": [
    {
     "data": {
      "text/plain": [
       "0.7931625569344525"
      ]
     },
     "execution_count": 140,
     "metadata": {},
     "output_type": "execute_result"
    }
   ],
   "source": [
    "precision_score(y_test, pred_values, average='macro')"
   ]
  },
  {
   "cell_type": "code",
   "execution_count": 141,
   "metadata": {},
   "outputs": [
    {
     "data": {
      "text/plain": [
       "0.7639249826749828"
      ]
     },
     "execution_count": 141,
     "metadata": {},
     "output_type": "execute_result"
    }
   ],
   "source": [
    "recall_score(y_test, pred_values, average='macro')"
   ]
  },
  {
   "cell_type": "code",
   "execution_count": 142,
   "metadata": {},
   "outputs": [],
   "source": [
    "#predição dos não-rotulados\n",
    "X_label = X_ori[rows_label:rows_label+ rows_unlabel]\n",
    "pred_values_label= model.predict(X_label) \n"
   ]
  },
  {
   "cell_type": "code",
   "execution_count": 143,
   "metadata": {},
   "outputs": [],
   "source": [
    "#avalia a probabilidade de estar certo\n",
    "prob_label = model.predict_proba(X_label) \n",
    "#np.savetxt('C:/Users/camil/OneDrive/Área de Trabalho/mestrado/Unlabeled/prob.csv', prob_label, delimiter=';')"
   ]
  },
  {
   "cell_type": "code",
   "execution_count": 144,
   "metadata": {},
   "outputs": [
    {
     "data": {
      "text/plain": [
       "7060"
      ]
     },
     "execution_count": 144,
     "metadata": {},
     "output_type": "execute_result"
    }
   ],
   "source": [
    "#seleciona os itens que vão entrar no conjunto de treino\n",
    "threshold = 0.24\n",
    "t_size = int(threshold*rows_unlabel) #quanto vai adicionar a cada iteração\n",
    "rows_train = x_train.shape[0]\n",
    "rows_train"
   ]
  },
  {
   "cell_type": "code",
   "execution_count": 145,
   "metadata": {},
   "outputs": [],
   "source": [
    "reliable_pred_favor, reliable_pred_against  = [], []\n",
    "for x_id, (prob, pred) in enumerate(zip(prob_label, pred_values_label)):\n",
    "    #se 1, inclui no favor; senão, no against\n",
    "    #incluir id, probabilidade e valor predito (1 ou 0)\n",
    "    (reliable_pred_favor if (pred_values_label[x_id]) else reliable_pred_against).append((x_id, prob_label[x_id,pred_values_label[x_id]], pred_values_label[x_id]))\n",
    "    "
   ]
  },
  {
   "cell_type": "code",
   "execution_count": 146,
   "metadata": {},
   "outputs": [],
   "source": [
    "#coloca em ordem decrescente de confiabilidade a partir da probabilidade (coluna 2)\n",
    "reliable_pred_favor = sorted(reliable_pred_favor, key=lambda x: x[1], reverse=True)\n",
    "reliable_pred_against = sorted(reliable_pred_against, key=lambda x: x[1], reverse=True)"
   ]
  },
  {
   "cell_type": "code",
   "execution_count": 147,
   "metadata": {},
   "outputs": [
    {
     "name": "stdout",
     "output_type": "stream",
     "text": [
      "iteraction: 0.24 accuracy: 0.7786745964316057 f1_score: 0.769847779845162\n",
      "iteraction: 0.48 accuracy: 0.7595581988105352 f1_score: 0.7553147570270858\n"
     ]
    },
    {
     "name": "stderr",
     "output_type": "stream",
     "text": [
      "C:\\Users\\camil\\anaconda3\\lib\\site-packages\\sklearn\\linear_model\\_logistic.py:814: ConvergenceWarning: lbfgs failed to converge (status=1):\n",
      "STOP: TOTAL NO. of ITERATIONS REACHED LIMIT.\n",
      "\n",
      "Increase the number of iterations (max_iter) or scale the data as shown in:\n",
      "    https://scikit-learn.org/stable/modules/preprocessing.html\n",
      "Please also refer to the documentation for alternative solver options:\n",
      "    https://scikit-learn.org/stable/modules/linear_model.html#logistic-regression\n",
      "  n_iter_i = _check_optimize_result(\n"
     ]
    },
    {
     "name": "stdout",
     "output_type": "stream",
     "text": [
      "iteraction: 0.72 accuracy: 0.7570093457943925 f1_score: 0.7535221116341528\n"
     ]
    },
    {
     "ename": "IndexError",
     "evalue": "list index out of range",
     "output_type": "error",
     "traceback": [
      "\u001b[1;31m---------------------------------------------------------------------------\u001b[0m",
      "\u001b[1;31mIndexError\u001b[0m                                Traceback (most recent call last)",
      "\u001b[1;32m~\\AppData\\Local\\Temp\\ipykernel_12776\\3949619866.py\u001b[0m in \u001b[0;36m<module>\u001b[1;34m\u001b[0m\n\u001b[0;32m      9\u001b[0m     \u001b[1;32mfor\u001b[0m \u001b[0mi\u001b[0m \u001b[1;32min\u001b[0m \u001b[0mrange\u001b[0m\u001b[1;33m(\u001b[0m\u001b[0mint\u001b[0m\u001b[1;33m(\u001b[0m\u001b[0mt_size\u001b[0m\u001b[1;33m/\u001b[0m\u001b[1;36m2\u001b[0m\u001b[1;33m)\u001b[0m\u001b[1;33m)\u001b[0m\u001b[1;33m:\u001b[0m\u001b[1;33m\u001b[0m\u001b[1;33m\u001b[0m\u001b[0m\n\u001b[0;32m     10\u001b[0m         \u001b[1;31m#pega um a favor\u001b[0m\u001b[1;33m\u001b[0m\u001b[1;33m\u001b[0m\u001b[1;33m\u001b[0m\u001b[0m\n\u001b[1;32m---> 11\u001b[1;33m         \u001b[0mindex\u001b[0m \u001b[1;33m=\u001b[0m \u001b[0mreliable_pred_favor\u001b[0m\u001b[1;33m[\u001b[0m\u001b[0mposition\u001b[0m\u001b[1;33m]\u001b[0m\u001b[1;33m[\u001b[0m\u001b[1;36m0\u001b[0m\u001b[1;33m]\u001b[0m \u001b[1;31m#descobre a posição no X_label\u001b[0m\u001b[1;33m\u001b[0m\u001b[1;33m\u001b[0m\u001b[0m\n\u001b[0m\u001b[0;32m     12\u001b[0m         \u001b[0mindex_list\u001b[0m\u001b[1;33m.\u001b[0m\u001b[0mappend\u001b[0m\u001b[1;33m(\u001b[0m\u001b[0mindex\u001b[0m\u001b[1;33m+\u001b[0m\u001b[0mrows_label\u001b[0m\u001b[1;33m)\u001b[0m \u001b[1;31m#inclui na lista de indices\u001b[0m\u001b[1;33m\u001b[0m\u001b[1;33m\u001b[0m\u001b[0m\n\u001b[0;32m     13\u001b[0m         \u001b[0my\u001b[0m \u001b[1;33m=\u001b[0m \u001b[0mnp\u001b[0m\u001b[1;33m.\u001b[0m\u001b[0mappend\u001b[0m\u001b[1;33m(\u001b[0m\u001b[0my\u001b[0m\u001b[1;33m,\u001b[0m \u001b[1;36m1\u001b[0m\u001b[1;33m)\u001b[0m \u001b[1;31m#empilha o y\u001b[0m\u001b[1;33m\u001b[0m\u001b[1;33m\u001b[0m\u001b[0m\n",
      "\u001b[1;31mIndexError\u001b[0m: list index out of range"
     ]
    }
   ],
   "source": [
    "y= np.asarray(y_train)\n",
    "index_list=[x for x in range(0, rows_train)] #indices para o novo X a partir do X original\n",
    "iteractions = 0\n",
    "position = 0\n",
    "index_labels=[x for x in range(rows_label, rows_label+ rows_unlabel)]\n",
    "\n",
    "while iteractions < 0.99:\n",
    "    iteractions = iteractions + threshold\n",
    "    for i in range(int(t_size/2)):\n",
    "        #pega um a favor\n",
    "        index = reliable_pred_favor[position][0] #descobre a posição no X_label \n",
    "        index_list.append(index+rows_label) #inclui na lista de indices\n",
    "        y = np.append(y, 1) #empilha o y\n",
    "        index_labels.remove(index+rows_label)\n",
    "        #pega um contra\n",
    "        index = reliable_pred_against[position][0] #descobre a posição no X_label \n",
    "        index_list.append(index+rows_label) #inclui na lista de indices\n",
    "        y = np.append(y, 0) #empilha o y\n",
    "        index_labels.remove(index+rows_label)\n",
    "        #anda uma posição nos dois \n",
    "        position+=1\n",
    "\n",
    "    X_train_novo = X_ori[index_list,:]#atualiza o X rotulado com os índices que estão em index_list\n",
    "    X_label = X_ori[index_labels,:] #pega só os índices que sobraram\n",
    "    rows_unlabel = X_label.get_shape()[0] #novo número de linhas sem rótulo\n",
    "    rows_label = X_train_novo.get_shape()[0] + rows_test #linhas com rótulo novas + as de teste que estão guardadas\n",
    "    X_ori = sparse.vstack([X_train_novo, x_test, X_label]) #empilha treino, teste e unlabelled\n",
    "    index_labels=[x for x in range(rows_label, rows_label+ rows_unlabel)] #atualiza os unlabelled\n",
    "    position = 0\n",
    "\n",
    "   # x_train_novo, x_test_novo, y_train_novo, y_test_novo = train_test_split(\n",
    "        #X_novo,\n",
    "        #np.asarray(y),\n",
    "        #test_size = 0.25,\n",
    "        #random_state = 123,\n",
    "       # shuffle = True,\n",
    "        #stratify = np.asarray(y),\n",
    "    #)\n",
    "\n",
    "    model_novo = LogisticRegression(random_state=0)\n",
    "    model_novo.fit(X_train_novo,y)\n",
    "    #testa nos conjuntos originais\n",
    "    pred_values_novo = model_novo.predict(x_test)     \n",
    "    acc = accuracy_score(pred_values_novo , y_test)\n",
    "    f1 = f1_score(y_test, pred_values_novo, average='macro')\n",
    "    print(\"iteraction:\",iteractions, \"accuracy:\", acc, \"f1_score:\", f1)\n",
    "    \n",
    "    pred_values_label= model_novo.predict(X_label) \n",
    "    prob_label = model.predict_proba(X_label) \n",
    "    reliable_pred_favor, reliable_pred_against  = [], []\n",
    "    for x_id, (prob, pred) in enumerate(zip(prob_label, pred_values_label)):\n",
    "        (reliable_pred_favor if (pred_values_label[x_id]) else reliable_pred_against).append((x_id, prob_label[x_id,pred_values_label[x_id]], pred_values_label[x_id]))\n",
    "    \n",
    "    reliable_pred_favor = sorted(reliable_pred_favor, key=lambda x: x[1], reverse=True)\n",
    "    reliable_pred_against = sorted(reliable_pred_against, key=lambda x: x[1], reverse=True)    \n",
    "    \n",
    "    index_labels=[x for x in range(rows_label, rows_label+ rows_unlabel)]"
   ]
  },
  {
   "cell_type": "code",
   "execution_count": null,
   "metadata": {},
   "outputs": [],
   "source": []
  },
  {
   "cell_type": "code",
   "execution_count": null,
   "metadata": {},
   "outputs": [],
   "source": []
  }
 ],
 "metadata": {
  "kernelspec": {
   "display_name": "Python 3 (ipykernel)",
   "language": "python",
   "name": "python3"
  },
  "language_info": {
   "codemirror_mode": {
    "name": "ipython",
    "version": 3
   },
   "file_extension": ".py",
   "mimetype": "text/x-python",
   "name": "python",
   "nbconvert_exporter": "python",
   "pygments_lexer": "ipython3",
   "version": "3.8.3"
  }
 },
 "nbformat": 4,
 "nbformat_minor": 4
}
