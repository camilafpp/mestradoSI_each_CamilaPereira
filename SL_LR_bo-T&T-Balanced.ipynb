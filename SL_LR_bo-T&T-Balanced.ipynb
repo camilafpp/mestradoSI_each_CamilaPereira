{
 "cells": [
  {
   "cell_type": "code",
   "execution_count": 233,
   "metadata": {},
   "outputs": [],
   "source": [
    "import pandas as pd\n",
    "from sklearn.feature_extraction.text import TfidfVectorizer\n",
    "from sklearn.feature_extraction.text import CountVectorizer\n",
    "import nltk\n",
    "from sklearn.svm import OneClassSVM\n",
    "import numpy as np\n",
    "from scipy import sparse"
   ]
  },
  {
   "cell_type": "code",
   "execution_count": 234,
   "metadata": {},
   "outputs": [
    {
     "data": {
      "text/html": [
       "<div>\n",
       "<style scoped>\n",
       "    .dataframe tbody tr th:only-of-type {\n",
       "        vertical-align: middle;\n",
       "    }\n",
       "\n",
       "    .dataframe tbody tr th {\n",
       "        vertical-align: top;\n",
       "    }\n",
       "\n",
       "    .dataframe thead th {\n",
       "        text-align: right;\n",
       "    }\n",
       "</style>\n",
       "<table border=\"1\" class=\"dataframe\">\n",
       "  <thead>\n",
       "    <tr style=\"text-align: right;\">\n",
       "      <th></th>\n",
       "      <th>Text</th>\n",
       "      <th>Target</th>\n",
       "      <th>Polarity</th>\n",
       "      <th>Factual</th>\n",
       "      <th>User_ID</th>\n",
       "      <th>Tweet_ID</th>\n",
       "      <th>Tweet_Seq</th>\n",
       "      <th>POS</th>\n",
       "      <th>Mentions</th>\n",
       "      <th>Nouns</th>\n",
       "    </tr>\n",
       "  </thead>\n",
       "  <tbody>\n",
       "    <tr>\n",
       "      <th>0</th>\n",
       "      <td>Maduro diz que Bolsonaro arrasta as forças mil...</td>\n",
       "      <td>r2_bo</td>\n",
       "      <td>0</td>\n",
       "      <td>yes</td>\n",
       "      <td>r2_bo_75</td>\n",
       "      <td>_1228475221147029504</td>\n",
       "      <td>2259</td>\n",
       "      <td>[('maduro', 'ADJ'), ('diz', 'V'), ('que', 'KS'...</td>\n",
       "      <td>[]</td>\n",
       "      <td>{'bolsonaro': 1, 'brasil': 1, 'conflito': 1, '...</td>\n",
       "    </tr>\n",
       "    <tr>\n",
       "      <th>1</th>\n",
       "      <td>Prezada, Bozo é ignorante, e interpretou errad...</td>\n",
       "      <td>r2_bo</td>\n",
       "      <td>0</td>\n",
       "      <td>no</td>\n",
       "      <td>r2_bo_57</td>\n",
       "      <td>_1270354943518572545</td>\n",
       "      <td>4492</td>\n",
       "      <td>[('prezada', 'PCP'), (',', 'PU'), ('bozo', 'N'...</td>\n",
       "      <td>[]</td>\n",
       "      <td>{'bozo': 1, 'transmissão': 1, 'coronavírus': 1...</td>\n",
       "    </tr>\n",
       "    <tr>\n",
       "      <th>2</th>\n",
       "      <td>se a china enviou o coronavírus pra cá, a gent...</td>\n",
       "      <td>r2_bo</td>\n",
       "      <td>0</td>\n",
       "      <td>no</td>\n",
       "      <td>r2_bo_474</td>\n",
       "      <td>_1264295371695697920</td>\n",
       "      <td>4587</td>\n",
       "      <td>[('se', 'KS'), ('a', 'ART'), ('china', 'N'), (...</td>\n",
       "      <td>[]</td>\n",
       "      <td>{'coronavírus': 1, 'bolsonaro': 1, 'gente': 1,...</td>\n",
       "    </tr>\n",
       "    <tr>\n",
       "      <th>3</th>\n",
       "      <td>Acho que para o tal Felipe Neto e outros Petis...</td>\n",
       "      <td>r2_bo</td>\n",
       "      <td>1</td>\n",
       "      <td>no</td>\n",
       "      <td>r2_bo_103</td>\n",
       "      <td>_1070318256907411456</td>\n",
       "      <td>51</td>\n",
       "      <td>[('acho', 'V'), ('que', 'KS'), ('para', 'PREP'...</td>\n",
       "      <td>[]</td>\n",
       "      <td>{'bolsonaro': 1, 'tipo': 1, 'mente': 1, 'licen...</td>\n",
       "    </tr>\n",
       "    <tr>\n",
       "      <th>4</th>\n",
       "      <td>Bolsonaro não incentiva a violência: A violênc...</td>\n",
       "      <td>r2_bo</td>\n",
       "      <td>1</td>\n",
       "      <td>no</td>\n",
       "      <td>r2_bo_93</td>\n",
       "      <td>_1031307320373010432</td>\n",
       "      <td>910</td>\n",
       "      <td>[('bolsonaro', 'N'), ('não', 'ADV'), ('incenti...</td>\n",
       "      <td>[]</td>\n",
       "      <td>{'violência': 2, 'respostas': 1, 'bolsonaro': ...</td>\n",
       "    </tr>\n",
       "    <tr>\n",
       "      <th>...</th>\n",
       "      <td>...</td>\n",
       "      <td>...</td>\n",
       "      <td>...</td>\n",
       "      <td>...</td>\n",
       "      <td>...</td>\n",
       "      <td>...</td>\n",
       "      <td>...</td>\n",
       "      <td>...</td>\n",
       "      <td>...</td>\n",
       "      <td>...</td>\n",
       "    </tr>\n",
       "    <tr>\n",
       "      <th>7055</th>\n",
       "      <td>Fica a vontade pra levar eleitores do Bolsonar...</td>\n",
       "      <td>r2_bo</td>\n",
       "      <td>0</td>\n",
       "      <td>no</td>\n",
       "      <td>r2_bo_637</td>\n",
       "      <td>_1206580142644113408</td>\n",
       "      <td>2099</td>\n",
       "      <td>[('fica', 'V'), ('a', 'ART'), ('vontade', 'N')...</td>\n",
       "      <td>[]</td>\n",
       "      <td>{'eleitores': 1, 'bolsonaro': 1, 'vontade': 1,...</td>\n",
       "    </tr>\n",
       "    <tr>\n",
       "      <th>7056</th>\n",
       "      <td>General detona Bolsonaro e critica uso de mili...</td>\n",
       "      <td>r2_bo</td>\n",
       "      <td>0</td>\n",
       "      <td>yes</td>\n",
       "      <td>r2_bo_75</td>\n",
       "      <td>_1217930731256713218</td>\n",
       "      <td>1648</td>\n",
       "      <td>[('general', 'N'), ('detona', 'V'), ('bolsonar...</td>\n",
       "      <td>[]</td>\n",
       "      <td>{'general': 1, 'militares': 1, 'inss': 1, 'fil...</td>\n",
       "    </tr>\n",
       "    <tr>\n",
       "      <th>7057</th>\n",
       "      <td>o que significa isso???@ ,isso é gravíssimo!!!...</td>\n",
       "      <td>r2_bo</td>\n",
       "      <td>1</td>\n",
       "      <td>no</td>\n",
       "      <td>r2_bo_702</td>\n",
       "      <td>_1139401650114723840</td>\n",
       "      <td>1821</td>\n",
       "      <td>[('@', 'NUM'), ('radardamidia', 'N'), (',', 'P...</td>\n",
       "      <td>['radardamidia', 'carlazambelli17', 'carlosbol...</td>\n",
       "      <td>{'homem': 1, 'bolsonaro': 1, 'radardamidia': 1...</td>\n",
       "    </tr>\n",
       "    <tr>\n",
       "      <th>7058</th>\n",
       "      <td>Uma pessoa que assiste os debates e ainda tem ...</td>\n",
       "      <td>r2_bo</td>\n",
       "      <td>0</td>\n",
       "      <td>no</td>\n",
       "      <td>r2_bo_104</td>\n",
       "      <td>_1034606940566036482</td>\n",
       "      <td>3029</td>\n",
       "      <td>[('uma', 'ART'), ('pessoa', 'N'), ('que', 'PRO...</td>\n",
       "      <td>[]</td>\n",
       "      <td>{'bolsonaro': 1, 'debates': 1, 'capacidade': 1...</td>\n",
       "    </tr>\n",
       "    <tr>\n",
       "      <th>7059</th>\n",
       "      <td>bolsonaro TANTA GENTE BOA PARA ESSA FUNÇÃO POR...</td>\n",
       "      <td>r2_bo</td>\n",
       "      <td>1</td>\n",
       "      <td>no</td>\n",
       "      <td>r2_bo_737</td>\n",
       "      <td>_1169762091584118784</td>\n",
       "      <td>1684</td>\n",
       "      <td>[('&gt;', 'N'), ('&gt;', 'N'), ('@', 'PU'), ('jairbo...</td>\n",
       "      <td>['jairbolsonaro']</td>\n",
       "      <td>{'escolha': 1, 'gente': 1, 'função': 1, 'jairb...</td>\n",
       "    </tr>\n",
       "  </tbody>\n",
       "</table>\n",
       "<p>7060 rows × 10 columns</p>\n",
       "</div>"
      ],
      "text/plain": [
       "                                                   Text Target  Polarity  \\\n",
       "0     Maduro diz que Bolsonaro arrasta as forças mil...  r2_bo         0   \n",
       "1     Prezada, Bozo é ignorante, e interpretou errad...  r2_bo         0   \n",
       "2     se a china enviou o coronavírus pra cá, a gent...  r2_bo         0   \n",
       "3     Acho que para o tal Felipe Neto e outros Petis...  r2_bo         1   \n",
       "4     Bolsonaro não incentiva a violência: A violênc...  r2_bo         1   \n",
       "...                                                 ...    ...       ...   \n",
       "7055  Fica a vontade pra levar eleitores do Bolsonar...  r2_bo         0   \n",
       "7056  General detona Bolsonaro e critica uso de mili...  r2_bo         0   \n",
       "7057  o que significa isso???@ ,isso é gravíssimo!!!...  r2_bo         1   \n",
       "7058  Uma pessoa que assiste os debates e ainda tem ...  r2_bo         0   \n",
       "7059  bolsonaro TANTA GENTE BOA PARA ESSA FUNÇÃO POR...  r2_bo         1   \n",
       "\n",
       "     Factual    User_ID              Tweet_ID  Tweet_Seq  \\\n",
       "0        yes   r2_bo_75  _1228475221147029504       2259   \n",
       "1         no   r2_bo_57  _1270354943518572545       4492   \n",
       "2         no  r2_bo_474  _1264295371695697920       4587   \n",
       "3         no  r2_bo_103  _1070318256907411456         51   \n",
       "4         no   r2_bo_93  _1031307320373010432        910   \n",
       "...      ...        ...                   ...        ...   \n",
       "7055      no  r2_bo_637  _1206580142644113408       2099   \n",
       "7056     yes   r2_bo_75  _1217930731256713218       1648   \n",
       "7057      no  r2_bo_702  _1139401650114723840       1821   \n",
       "7058      no  r2_bo_104  _1034606940566036482       3029   \n",
       "7059      no  r2_bo_737  _1169762091584118784       1684   \n",
       "\n",
       "                                                    POS  \\\n",
       "0     [('maduro', 'ADJ'), ('diz', 'V'), ('que', 'KS'...   \n",
       "1     [('prezada', 'PCP'), (',', 'PU'), ('bozo', 'N'...   \n",
       "2     [('se', 'KS'), ('a', 'ART'), ('china', 'N'), (...   \n",
       "3     [('acho', 'V'), ('que', 'KS'), ('para', 'PREP'...   \n",
       "4     [('bolsonaro', 'N'), ('não', 'ADV'), ('incenti...   \n",
       "...                                                 ...   \n",
       "7055  [('fica', 'V'), ('a', 'ART'), ('vontade', 'N')...   \n",
       "7056  [('general', 'N'), ('detona', 'V'), ('bolsonar...   \n",
       "7057  [('@', 'NUM'), ('radardamidia', 'N'), (',', 'P...   \n",
       "7058  [('uma', 'ART'), ('pessoa', 'N'), ('que', 'PRO...   \n",
       "7059  [('>', 'N'), ('>', 'N'), ('@', 'PU'), ('jairbo...   \n",
       "\n",
       "                                               Mentions  \\\n",
       "0                                                    []   \n",
       "1                                                    []   \n",
       "2                                                    []   \n",
       "3                                                    []   \n",
       "4                                                    []   \n",
       "...                                                 ...   \n",
       "7055                                                 []   \n",
       "7056                                                 []   \n",
       "7057  ['radardamidia', 'carlazambelli17', 'carlosbol...   \n",
       "7058                                                 []   \n",
       "7059                                  ['jairbolsonaro']   \n",
       "\n",
       "                                                  Nouns  \n",
       "0     {'bolsonaro': 1, 'brasil': 1, 'conflito': 1, '...  \n",
       "1     {'bozo': 1, 'transmissão': 1, 'coronavírus': 1...  \n",
       "2     {'coronavírus': 1, 'bolsonaro': 1, 'gente': 1,...  \n",
       "3     {'bolsonaro': 1, 'tipo': 1, 'mente': 1, 'licen...  \n",
       "4     {'violência': 2, 'respostas': 1, 'bolsonaro': ...  \n",
       "...                                                 ...  \n",
       "7055  {'eleitores': 1, 'bolsonaro': 1, 'vontade': 1,...  \n",
       "7056  {'general': 1, 'militares': 1, 'inss': 1, 'fil...  \n",
       "7057  {'homem': 1, 'bolsonaro': 1, 'radardamidia': 1...  \n",
       "7058  {'bolsonaro': 1, 'debates': 1, 'capacidade': 1...  \n",
       "7059  {'escolha': 1, 'gente': 1, 'função': 1, 'jairb...  \n",
       "\n",
       "[7060 rows x 10 columns]"
      ]
     },
     "execution_count": 234,
     "metadata": {},
     "output_type": "execute_result"
    }
   ],
   "source": [
    "df_train = pd.read_csv(r'C:\\Users\\camil\\OneDrive\\Área de Trabalho\\mestrado\\treino\\r2_bo_train_statements.csv', sep=';')\n",
    "df_train = df_train.drop(df_train[df_train.Polarity =='other'].index)\n",
    "df_train.Polarity.replace(('for', 'against'), (1,0), inplace=True)\n",
    "df_train = df_train.sample(frac=1).reset_index(drop=True)\n",
    "df_train"
   ]
  },
  {
   "cell_type": "code",
   "execution_count": 235,
   "metadata": {},
   "outputs": [
    {
     "data": {
      "text/html": [
       "<div>\n",
       "<style scoped>\n",
       "    .dataframe tbody tr th:only-of-type {\n",
       "        vertical-align: middle;\n",
       "    }\n",
       "\n",
       "    .dataframe tbody tr th {\n",
       "        vertical-align: top;\n",
       "    }\n",
       "\n",
       "    .dataframe thead th {\n",
       "        text-align: right;\n",
       "    }\n",
       "</style>\n",
       "<table border=\"1\" class=\"dataframe\">\n",
       "  <thead>\n",
       "    <tr style=\"text-align: right;\">\n",
       "      <th></th>\n",
       "      <th>Text</th>\n",
       "      <th>Target</th>\n",
       "      <th>Polarity</th>\n",
       "      <th>Factual</th>\n",
       "      <th>User_ID</th>\n",
       "      <th>Tweet_ID</th>\n",
       "      <th>Tweet_Seq</th>\n",
       "      <th>POS</th>\n",
       "      <th>Mentions</th>\n",
       "      <th>Nouns</th>\n",
       "    </tr>\n",
       "  </thead>\n",
       "  <tbody>\n",
       "    <tr>\n",
       "      <th>0</th>\n",
       "      <td>ACABOU O CARINHO! vou excluir da minha vida qu...</td>\n",
       "      <td>r2_bo</td>\n",
       "      <td>0</td>\n",
       "      <td>no</td>\n",
       "      <td>r2_bo_72</td>\n",
       "      <td>_1270157032054763521</td>\n",
       "      <td>3894</td>\n",
       "      <td>[('acabou', 'V'), ('o', 'ART'), ('carinho', 'N...</td>\n",
       "      <td>[]</td>\n",
       "      <td>{'apoio': 1, 'bolsonaro': 1, 'numero': 1, 'vid...</td>\n",
       "    </tr>\n",
       "    <tr>\n",
       "      <th>1</th>\n",
       "      <td>Alô esquerdistas! Não é o presidente Bolsonaro...</td>\n",
       "      <td>r2_bo</td>\n",
       "      <td>1</td>\n",
       "      <td>no</td>\n",
       "      <td>r2_bo_752</td>\n",
       "      <td>_1257799483011796994</td>\n",
       "      <td>284</td>\n",
       "      <td>[('alô', 'IN'), ('esquerdistas', 'N'), ('!', '...</td>\n",
       "      <td>[]</td>\n",
       "      <td>{'visto': 1, 'brasileiros': 1, 'manifestações'...</td>\n",
       "    </tr>\n",
       "    <tr>\n",
       "      <th>2</th>\n",
       "      <td>A esquerda que só sabe falar mal do Bolsonaro ...</td>\n",
       "      <td>r2_bo</td>\n",
       "      <td>0</td>\n",
       "      <td>no</td>\n",
       "      <td>r2_bo_682</td>\n",
       "      <td>_1286673971237322754</td>\n",
       "      <td>3927</td>\n",
       "      <td>[('a', 'ART'), ('esquerda', 'N'), ('que', 'PRO...</td>\n",
       "      <td>[]</td>\n",
       "      <td>{'esquerda': 7, 'q': 2, 'nd': 2, 'direita': 2,...</td>\n",
       "    </tr>\n",
       "    <tr>\n",
       "      <th>3</th>\n",
       "      <td>Sob Bolsonaro, Brasil é visto como um dos país...</td>\n",
       "      <td>r2_bo</td>\n",
       "      <td>0</td>\n",
       "      <td>yes</td>\n",
       "      <td>r2_bo_75</td>\n",
       "      <td>_1220375174014521351</td>\n",
       "      <td>1863</td>\n",
       "      <td>[('sob', 'PREP'), ('bolsonaro', 'NPROP'), (','...</td>\n",
       "      <td>[]</td>\n",
       "      <td>{'países': 1, 'brasil': 1}</td>\n",
       "    </tr>\n",
       "    <tr>\n",
       "      <th>4</th>\n",
       "      <td>bolsonaro fodase</td>\n",
       "      <td>r2_bo</td>\n",
       "      <td>0</td>\n",
       "      <td>no</td>\n",
       "      <td>r2_bo_4</td>\n",
       "      <td>_1316394060568035329</td>\n",
       "      <td>222</td>\n",
       "      <td>[('@', 'NUM'), ('facts_bolsonaro', 'N'), ('fod...</td>\n",
       "      <td>['facts_bolsonaro']</td>\n",
       "      <td>{'facts_bolsonaro': 1, 'fodase': 1}</td>\n",
       "    </tr>\n",
       "    <tr>\n",
       "      <th>...</th>\n",
       "      <td>...</td>\n",
       "      <td>...</td>\n",
       "      <td>...</td>\n",
       "      <td>...</td>\n",
       "      <td>...</td>\n",
       "      <td>...</td>\n",
       "      <td>...</td>\n",
       "      <td>...</td>\n",
       "      <td>...</td>\n",
       "      <td>...</td>\n",
       "    </tr>\n",
       "    <tr>\n",
       "      <th>2349</th>\n",
       "      <td>O gente, ninguém liga pro Bolsonaro não, nem p...</td>\n",
       "      <td>r2_bo</td>\n",
       "      <td>0</td>\n",
       "      <td>no</td>\n",
       "      <td>r2_bo_164</td>\n",
       "      <td>_1280659531517878272</td>\n",
       "      <td>4943</td>\n",
       "      <td>[('o', 'ART'), ('gente', 'N'), (',', 'PU'), ('...</td>\n",
       "      <td>[]</td>\n",
       "      <td>{'ee': 1, 'gente': 1, 'família': 1}</td>\n",
       "    </tr>\n",
       "    <tr>\n",
       "      <th>2350</th>\n",
       "      <td>serio isso, o Bolsonaro mudou as cadeiras do p...</td>\n",
       "      <td>r2_bo</td>\n",
       "      <td>0</td>\n",
       "      <td>no</td>\n",
       "      <td>r2_bo_609</td>\n",
       "      <td>_1080957863437185024</td>\n",
       "      <td>2819</td>\n",
       "      <td>[('serio', 'N'), ('isso', 'PROSUB'), (',', 'PU...</td>\n",
       "      <td>[]</td>\n",
       "      <td>{'serio': 2, 'palacio': 1, 'cadeiras': 1, 'bol...</td>\n",
       "    </tr>\n",
       "    <tr>\n",
       "      <th>2351</th>\n",
       "      <td>Sempre soube q Moro é progressista, mas confes...</td>\n",
       "      <td>r2_bo</td>\n",
       "      <td>1</td>\n",
       "      <td>no</td>\n",
       "      <td>r2_bo_723</td>\n",
       "      <td>_1253737658334969857</td>\n",
       "      <td>3686</td>\n",
       "      <td>[('sempre', 'ADV'), ('soube', 'V'), ('q', 'ADJ...</td>\n",
       "      <td>[]</td>\n",
       "      <td>{'país': 2, 'tiro': 1, 'moro': 1, 'lado': 1, '...</td>\n",
       "    </tr>\n",
       "    <tr>\n",
       "      <th>2352</th>\n",
       "      <td>PRESIDENTE bolsonaro A @ E O @ SÃO LIXO DA MÍD...</td>\n",
       "      <td>r2_bo</td>\n",
       "      <td>1</td>\n",
       "      <td>no</td>\n",
       "      <td>r2_bo_737</td>\n",
       "      <td>_1242643009382027264</td>\n",
       "      <td>3091</td>\n",
       "      <td>[('&gt;', 'PU'), ('&gt;', 'PU'), ('presidente', 'N')...</td>\n",
       "      <td>['veramagalhaes', 'williamwaack_jg']</td>\n",
       "      <td>{'williamwaack_jg': 1, 'veramagalhaes': 1, 'pr...</td>\n",
       "    </tr>\n",
       "    <tr>\n",
       "      <th>2353</th>\n",
       "      <td>Tô com 22 anos de vida e jamais - JAMAIS - sen...</td>\n",
       "      <td>r2_bo</td>\n",
       "      <td>0</td>\n",
       "      <td>no</td>\n",
       "      <td>r2_bo_448</td>\n",
       "      <td>_1024123447742537728</td>\n",
       "      <td>91</td>\n",
       "      <td>[('tô', 'V'), ('com', 'PREP'), ('22', 'NUM'), ...</td>\n",
       "      <td>[]</td>\n",
       "      <td>{'anos': 1, 'bolsonaro': 1, 'roda': 1, 'vergon...</td>\n",
       "    </tr>\n",
       "  </tbody>\n",
       "</table>\n",
       "<p>2354 rows × 10 columns</p>\n",
       "</div>"
      ],
      "text/plain": [
       "                                                   Text Target  Polarity  \\\n",
       "0     ACABOU O CARINHO! vou excluir da minha vida qu...  r2_bo         0   \n",
       "1     Alô esquerdistas! Não é o presidente Bolsonaro...  r2_bo         1   \n",
       "2     A esquerda que só sabe falar mal do Bolsonaro ...  r2_bo         0   \n",
       "3     Sob Bolsonaro, Brasil é visto como um dos país...  r2_bo         0   \n",
       "4                                      bolsonaro fodase  r2_bo         0   \n",
       "...                                                 ...    ...       ...   \n",
       "2349  O gente, ninguém liga pro Bolsonaro não, nem p...  r2_bo         0   \n",
       "2350  serio isso, o Bolsonaro mudou as cadeiras do p...  r2_bo         0   \n",
       "2351  Sempre soube q Moro é progressista, mas confes...  r2_bo         1   \n",
       "2352  PRESIDENTE bolsonaro A @ E O @ SÃO LIXO DA MÍD...  r2_bo         1   \n",
       "2353  Tô com 22 anos de vida e jamais - JAMAIS - sen...  r2_bo         0   \n",
       "\n",
       "     Factual    User_ID              Tweet_ID  Tweet_Seq  \\\n",
       "0         no   r2_bo_72  _1270157032054763521       3894   \n",
       "1         no  r2_bo_752  _1257799483011796994        284   \n",
       "2         no  r2_bo_682  _1286673971237322754       3927   \n",
       "3        yes   r2_bo_75  _1220375174014521351       1863   \n",
       "4         no    r2_bo_4  _1316394060568035329        222   \n",
       "...      ...        ...                   ...        ...   \n",
       "2349      no  r2_bo_164  _1280659531517878272       4943   \n",
       "2350      no  r2_bo_609  _1080957863437185024       2819   \n",
       "2351      no  r2_bo_723  _1253737658334969857       3686   \n",
       "2352      no  r2_bo_737  _1242643009382027264       3091   \n",
       "2353      no  r2_bo_448  _1024123447742537728         91   \n",
       "\n",
       "                                                    POS  \\\n",
       "0     [('acabou', 'V'), ('o', 'ART'), ('carinho', 'N...   \n",
       "1     [('alô', 'IN'), ('esquerdistas', 'N'), ('!', '...   \n",
       "2     [('a', 'ART'), ('esquerda', 'N'), ('que', 'PRO...   \n",
       "3     [('sob', 'PREP'), ('bolsonaro', 'NPROP'), (','...   \n",
       "4     [('@', 'NUM'), ('facts_bolsonaro', 'N'), ('fod...   \n",
       "...                                                 ...   \n",
       "2349  [('o', 'ART'), ('gente', 'N'), (',', 'PU'), ('...   \n",
       "2350  [('serio', 'N'), ('isso', 'PROSUB'), (',', 'PU...   \n",
       "2351  [('sempre', 'ADV'), ('soube', 'V'), ('q', 'ADJ...   \n",
       "2352  [('>', 'PU'), ('>', 'PU'), ('presidente', 'N')...   \n",
       "2353  [('tô', 'V'), ('com', 'PREP'), ('22', 'NUM'), ...   \n",
       "\n",
       "                                  Mentions  \\\n",
       "0                                       []   \n",
       "1                                       []   \n",
       "2                                       []   \n",
       "3                                       []   \n",
       "4                      ['facts_bolsonaro']   \n",
       "...                                    ...   \n",
       "2349                                    []   \n",
       "2350                                    []   \n",
       "2351                                    []   \n",
       "2352  ['veramagalhaes', 'williamwaack_jg']   \n",
       "2353                                    []   \n",
       "\n",
       "                                                  Nouns  \n",
       "0     {'apoio': 1, 'bolsonaro': 1, 'numero': 1, 'vid...  \n",
       "1     {'visto': 1, 'brasileiros': 1, 'manifestações'...  \n",
       "2     {'esquerda': 7, 'q': 2, 'nd': 2, 'direita': 2,...  \n",
       "3                            {'países': 1, 'brasil': 1}  \n",
       "4                   {'facts_bolsonaro': 1, 'fodase': 1}  \n",
       "...                                                 ...  \n",
       "2349                {'ee': 1, 'gente': 1, 'família': 1}  \n",
       "2350  {'serio': 2, 'palacio': 1, 'cadeiras': 1, 'bol...  \n",
       "2351  {'país': 2, 'tiro': 1, 'moro': 1, 'lado': 1, '...  \n",
       "2352  {'williamwaack_jg': 1, 'veramagalhaes': 1, 'pr...  \n",
       "2353  {'anos': 1, 'bolsonaro': 1, 'roda': 1, 'vergon...  \n",
       "\n",
       "[2354 rows x 10 columns]"
      ]
     },
     "execution_count": 235,
     "metadata": {},
     "output_type": "execute_result"
    }
   ],
   "source": [
    "df_test = pd.read_csv(r'C:\\Users\\camil\\OneDrive\\Área de Trabalho\\mestrado\\Teste\\r2_bo_test_statements.csv', sep=';')\n",
    "df_test = df_test.drop(df_test[df_test.Polarity =='other'].index)\n",
    "df_test.Polarity.replace(('for', 'against'), (1,0), inplace=True)\n",
    "df_test = df_test.sample(frac=1).reset_index(drop=True)\n",
    "df_test"
   ]
  },
  {
   "cell_type": "code",
   "execution_count": 236,
   "metadata": {},
   "outputs": [
    {
     "data": {
      "text/html": [
       "<div>\n",
       "<style scoped>\n",
       "    .dataframe tbody tr th:only-of-type {\n",
       "        vertical-align: middle;\n",
       "    }\n",
       "\n",
       "    .dataframe tbody tr th {\n",
       "        vertical-align: top;\n",
       "    }\n",
       "\n",
       "    .dataframe thead th {\n",
       "        text-align: right;\n",
       "    }\n",
       "</style>\n",
       "<table border=\"1\" class=\"dataframe\">\n",
       "  <thead>\n",
       "    <tr style=\"text-align: right;\">\n",
       "      <th></th>\n",
       "      <th>Unnamed: 0</th>\n",
       "      <th>Text</th>\n",
       "    </tr>\n",
       "  </thead>\n",
       "  <tbody>\n",
       "    <tr>\n",
       "      <th>0</th>\n",
       "      <td>0</td>\n",
       "      <td>isso me lembra eu anto e bruna discutindo c o ...</td>\n",
       "    </tr>\n",
       "    <tr>\n",
       "      <th>1</th>\n",
       "      <td>1</td>\n",
       "      <td>bolsonaro fdp acabando c a maconha esse país t...</td>\n",
       "    </tr>\n",
       "    <tr>\n",
       "      <th>2</th>\n",
       "      <td>2</td>\n",
       "      <td>Bolsonaro 2018? — No dia das eleições eu ainda...</td>\n",
       "    </tr>\n",
       "    <tr>\n",
       "      <th>3</th>\n",
       "      <td>3</td>\n",
       "      <td>Eu amo o Bolsonaro</td>\n",
       "    </tr>\n",
       "    <tr>\n",
       "      <th>4</th>\n",
       "      <td>4</td>\n",
       "      <td>acabou os seiscentao do bolsonaro entao amanha...</td>\n",
       "    </tr>\n",
       "    <tr>\n",
       "      <th>...</th>\n",
       "      <td>...</td>\n",
       "      <td>...</td>\n",
       "    </tr>\n",
       "    <tr>\n",
       "      <th>31990</th>\n",
       "      <td>31990</td>\n",
       "      <td>Eu conto 0 items dessa lista no governo Bolson...</td>\n",
       "    </tr>\n",
       "    <tr>\n",
       "      <th>31991</th>\n",
       "      <td>31991</td>\n",
       "      <td>Não existe comparação nenhuma entre os últimos...</td>\n",
       "    </tr>\n",
       "    <tr>\n",
       "      <th>31992</th>\n",
       "      <td>31992</td>\n",
       "      <td>Sendo sincero: seria injusto até comparar a ca...</td>\n",
       "    </tr>\n",
       "    <tr>\n",
       "      <th>31993</th>\n",
       "      <td>31993</td>\n",
       "      <td>Eu vou ser sinceros com vcs: eu não acho que n...</td>\n",
       "    </tr>\n",
       "    <tr>\n",
       "      <th>31994</th>\n",
       "      <td>31994</td>\n",
       "      <td>Esse vídeo da reunião dos ministros eh um absu...</td>\n",
       "    </tr>\n",
       "  </tbody>\n",
       "</table>\n",
       "<p>31995 rows × 2 columns</p>\n",
       "</div>"
      ],
      "text/plain": [
       "       Unnamed: 0                                               Text\n",
       "0               0  isso me lembra eu anto e bruna discutindo c o ...\n",
       "1               1  bolsonaro fdp acabando c a maconha esse país t...\n",
       "2               2  Bolsonaro 2018? — No dia das eleições eu ainda...\n",
       "3               3                                 Eu amo o Bolsonaro\n",
       "4               4  acabou os seiscentao do bolsonaro entao amanha...\n",
       "...           ...                                                ...\n",
       "31990       31990  Eu conto 0 items dessa lista no governo Bolson...\n",
       "31991       31991  Não existe comparação nenhuma entre os últimos...\n",
       "31992       31992  Sendo sincero: seria injusto até comparar a ca...\n",
       "31993       31993  Eu vou ser sinceros com vcs: eu não acho que n...\n",
       "31994       31994  Esse vídeo da reunião dos ministros eh um absu...\n",
       "\n",
       "[31995 rows x 2 columns]"
      ]
     },
     "execution_count": 236,
     "metadata": {},
     "output_type": "execute_result"
    }
   ],
   "source": [
    "#carregando unlabeled data\n",
    "df_u = pd.read_csv(r'C:/Users/camil/OneDrive/Área de Trabalho/mestrado/Unlabeled/bolsonaro.csv')\n",
    "#df_u = df.sample(frac=1).reset_index(drop=True)\n",
    "df_u"
   ]
  },
  {
   "cell_type": "code",
   "execution_count": 237,
   "metadata": {},
   "outputs": [],
   "source": [
    "rows_train = len(df_train.index)\n",
    "rows_test = len(df_test.index)\n",
    "rows_label=rows_train+rows_test"
   ]
  },
  {
   "cell_type": "code",
   "execution_count": 238,
   "metadata": {},
   "outputs": [
    {
     "data": {
      "text/plain": [
       "31995"
      ]
     },
     "execution_count": 238,
     "metadata": {},
     "output_type": "execute_result"
    }
   ],
   "source": [
    "rows_unlabel = len(df_u.index)\n",
    "rows_unlabel"
   ]
  },
  {
   "cell_type": "code",
   "execution_count": 239,
   "metadata": {},
   "outputs": [
    {
     "data": {
      "text/plain": [
       "0        Maduro diz que Bolsonaro arrasta as forças mil...\n",
       "1        Prezada, Bozo é ignorante, e interpretou errad...\n",
       "2        se a china enviou o coronavírus pra cá, a gent...\n",
       "3        Acho que para o tal Felipe Neto e outros Petis...\n",
       "4        Bolsonaro não incentiva a violência: A violênc...\n",
       "                               ...                        \n",
       "31990    Eu conto 0 items dessa lista no governo Bolson...\n",
       "31991    Não existe comparação nenhuma entre os últimos...\n",
       "31992    Sendo sincero: seria injusto até comparar a ca...\n",
       "31993    Eu vou ser sinceros com vcs: eu não acho que n...\n",
       "31994    Esse vídeo da reunião dos ministros eh um absu...\n",
       "Name: Text, Length: 41409, dtype: object"
      ]
     },
     "execution_count": 239,
     "metadata": {},
     "output_type": "execute_result"
    }
   ],
   "source": [
    "frames = [df_train.Text, df_test.Text, df_u.Text]\n",
    "X = pd.concat(frames)\n",
    "X"
   ]
  },
  {
   "cell_type": "code",
   "execution_count": 240,
   "metadata": {},
   "outputs": [
    {
     "data": {
      "text/plain": [
       "(41409, 39298)"
      ]
     },
     "execution_count": 240,
     "metadata": {},
     "output_type": "execute_result"
    }
   ],
   "source": [
    "#vetoriza conjunto completo\n",
    "from sklearn.feature_extraction.text import TfidfTransformer\n",
    "count_vect = CountVectorizer( )\n",
    "X_counts = count_vect.fit_transform(X)\n",
    "X_counts.shape"
   ]
  },
  {
   "cell_type": "code",
   "execution_count": 241,
   "metadata": {},
   "outputs": [
    {
     "data": {
      "text/plain": [
       "(41409, 39298)"
      ]
     },
     "execution_count": 241,
     "metadata": {},
     "output_type": "execute_result"
    }
   ],
   "source": [
    "tf_transformer = TfidfTransformer(use_idf=False).fit(X_counts)\n",
    "X_tf = tf_transformer.transform(X_counts)\n",
    "X_tf.shape\n",
    "X_ori = X_tf\n",
    "#y_ori = df_train.Polarity\n",
    "X_ori.shape"
   ]
  },
  {
   "cell_type": "code",
   "execution_count": 242,
   "metadata": {},
   "outputs": [
    {
     "data": {
      "text/plain": [
       "(2354, 39298)"
      ]
     },
     "execution_count": 242,
     "metadata": {},
     "output_type": "execute_result"
    }
   ],
   "source": [
    "x_train = X_ori[0:rows_train,:]\n",
    "x_test = X_ori[rows_train:rows_train+rows_test,:]\n",
    "x_test.shape\n"
   ]
  },
  {
   "cell_type": "code",
   "execution_count": 243,
   "metadata": {},
   "outputs": [
    {
     "data": {
      "text/plain": [
       "(2354,)"
      ]
     },
     "execution_count": 243,
     "metadata": {},
     "output_type": "execute_result"
    }
   ],
   "source": [
    "#y_ori = df.Polarity\n",
    "y_train = df_train.Polarity\n",
    "y_test = df_test.Polarity\n",
    "y_test.shape"
   ]
  },
  {
   "cell_type": "code",
   "execution_count": 244,
   "metadata": {},
   "outputs": [
    {
     "data": {
      "text/plain": [
       "0.7693288020390824"
      ]
     },
     "execution_count": 244,
     "metadata": {},
     "output_type": "execute_result"
    }
   ],
   "source": [
    "#classificação\n",
    "from sklearn.linear_model import LogisticRegression\n",
    "from sklearn.metrics import f1_score\n",
    "from sklearn.metrics import accuracy_score\n",
    "from sklearn.metrics import precision_score\n",
    "from sklearn.metrics import recall_score\n",
    "model = LogisticRegression(random_state=0)\n",
    "model.fit(x_train,y_train)\n",
    "pred_values = model.predict(x_test)     \n",
    "acc = accuracy_score(pred_values , y_test)\n",
    "acc"
   ]
  },
  {
   "cell_type": "code",
   "execution_count": 245,
   "metadata": {},
   "outputs": [
    {
     "data": {
      "text/plain": [
       "0.7497134834595807"
      ]
     },
     "execution_count": 245,
     "metadata": {},
     "output_type": "execute_result"
    }
   ],
   "source": [
    "f1_score(y_test, pred_values, average='macro')"
   ]
  },
  {
   "cell_type": "code",
   "execution_count": 246,
   "metadata": {},
   "outputs": [
    {
     "data": {
      "text/plain": [
       "0.7738435590850982"
      ]
     },
     "execution_count": 246,
     "metadata": {},
     "output_type": "execute_result"
    }
   ],
   "source": [
    "precision_score(y_test, pred_values, average='macro')"
   ]
  },
  {
   "cell_type": "code",
   "execution_count": 247,
   "metadata": {},
   "outputs": [
    {
     "data": {
      "text/plain": [
       "0.7429826212153798"
      ]
     },
     "execution_count": 247,
     "metadata": {},
     "output_type": "execute_result"
    }
   ],
   "source": [
    "recall_score(y_test, pred_values, average='macro')"
   ]
  },
  {
   "cell_type": "code",
   "execution_count": 248,
   "metadata": {},
   "outputs": [],
   "source": [
    "#predição dos não-rotulados\n",
    "X_label = X_ori[rows_label:rows_label+ rows_unlabel]\n",
    "pred_values_label= model.predict(X_label) \n"
   ]
  },
  {
   "cell_type": "code",
   "execution_count": 249,
   "metadata": {},
   "outputs": [],
   "source": [
    "#avalia a probabilidade de estar certo\n",
    "prob_label = model.predict_proba(X_label) \n",
    "#np.savetxt('C:/Users/camil/OneDrive/Área de Trabalho/mestrado/Unlabeled/prob.csv', prob_label, delimiter=';')"
   ]
  },
  {
   "cell_type": "code",
   "execution_count": 250,
   "metadata": {},
   "outputs": [
    {
     "data": {
      "text/plain": [
       "7060"
      ]
     },
     "execution_count": 250,
     "metadata": {},
     "output_type": "execute_result"
    }
   ],
   "source": [
    "#seleciona os itens que vão entrar no conjunto de treino\n",
    "threshold = 0.37\n",
    "t_size = int(threshold*rows_unlabel) #quanto vai adicionar a cada iteração\n",
    "rows_train = x_train.shape[0]\n",
    "rows_train"
   ]
  },
  {
   "cell_type": "code",
   "execution_count": 251,
   "metadata": {},
   "outputs": [],
   "source": [
    "reliable_pred_favor, reliable_pred_against  = [], []\n",
    "for x_id, (prob, pred) in enumerate(zip(prob_label, pred_values_label)):\n",
    "    #se 1, inclui no favor; senão, no against\n",
    "    #incluir id, probabilidade e valor predito (1 ou 0)\n",
    "    (reliable_pred_favor if (pred_values_label[x_id]) else reliable_pred_against).append((x_id, prob_label[x_id,pred_values_label[x_id]], pred_values_label[x_id]))\n",
    "    "
   ]
  },
  {
   "cell_type": "code",
   "execution_count": 252,
   "metadata": {},
   "outputs": [],
   "source": [
    "#coloca em ordem decrescente de confiabilidade a partir da probabilidade (coluna 2)\n",
    "reliable_pred_favor = sorted(reliable_pred_favor, key=lambda x: x[1], reverse=True)\n",
    "reliable_pred_against = sorted(reliable_pred_against, key=lambda x: x[1], reverse=True)"
   ]
  },
  {
   "cell_type": "code",
   "execution_count": 253,
   "metadata": {},
   "outputs": [
    {
     "name": "stdout",
     "output_type": "stream",
     "text": [
      "iteraction: 0.37 accuracy: 0.7429906542056075\n"
     ]
    },
    {
     "name": "stderr",
     "output_type": "stream",
     "text": [
      "C:\\Users\\camil\\anaconda3\\lib\\site-packages\\sklearn\\linear_model\\_logistic.py:814: ConvergenceWarning: lbfgs failed to converge (status=1):\n",
      "STOP: TOTAL NO. of ITERATIONS REACHED LIMIT.\n",
      "\n",
      "Increase the number of iterations (max_iter) or scale the data as shown in:\n",
      "    https://scikit-learn.org/stable/modules/preprocessing.html\n",
      "Please also refer to the documentation for alternative solver options:\n",
      "    https://scikit-learn.org/stable/modules/linear_model.html#logistic-regression\n",
      "  n_iter_i = _check_optimize_result(\n"
     ]
    },
    {
     "name": "stdout",
     "output_type": "stream",
     "text": [
      "iteraction: 0.74 accuracy: 0.7276975361087511\n"
     ]
    },
    {
     "ename": "IndexError",
     "evalue": "list index out of range",
     "output_type": "error",
     "traceback": [
      "\u001b[1;31m---------------------------------------------------------------------------\u001b[0m",
      "\u001b[1;31mIndexError\u001b[0m                                Traceback (most recent call last)",
      "\u001b[1;32m~\\AppData\\Local\\Temp\\ipykernel_17816\\548753063.py\u001b[0m in \u001b[0;36m<module>\u001b[1;34m\u001b[0m\n\u001b[0;32m      9\u001b[0m     \u001b[1;32mfor\u001b[0m \u001b[0mi\u001b[0m \u001b[1;32min\u001b[0m \u001b[0mrange\u001b[0m\u001b[1;33m(\u001b[0m\u001b[0mint\u001b[0m\u001b[1;33m(\u001b[0m\u001b[0mt_size\u001b[0m\u001b[1;33m/\u001b[0m\u001b[1;36m2\u001b[0m\u001b[1;33m)\u001b[0m\u001b[1;33m)\u001b[0m\u001b[1;33m:\u001b[0m\u001b[1;33m\u001b[0m\u001b[1;33m\u001b[0m\u001b[0m\n\u001b[0;32m     10\u001b[0m         \u001b[1;31m#pega um a favor\u001b[0m\u001b[1;33m\u001b[0m\u001b[1;33m\u001b[0m\u001b[1;33m\u001b[0m\u001b[0m\n\u001b[1;32m---> 11\u001b[1;33m         \u001b[0mindex\u001b[0m \u001b[1;33m=\u001b[0m \u001b[0mreliable_pred_favor\u001b[0m\u001b[1;33m[\u001b[0m\u001b[0mposition\u001b[0m\u001b[1;33m]\u001b[0m\u001b[1;33m[\u001b[0m\u001b[1;36m0\u001b[0m\u001b[1;33m]\u001b[0m \u001b[1;31m#descobre a posição no X_label\u001b[0m\u001b[1;33m\u001b[0m\u001b[1;33m\u001b[0m\u001b[0m\n\u001b[0m\u001b[0;32m     12\u001b[0m         \u001b[0mindex_list\u001b[0m\u001b[1;33m.\u001b[0m\u001b[0mappend\u001b[0m\u001b[1;33m(\u001b[0m\u001b[0mindex\u001b[0m\u001b[1;33m+\u001b[0m\u001b[0mrows_label\u001b[0m\u001b[1;33m)\u001b[0m \u001b[1;31m#inclui na lista de indices\u001b[0m\u001b[1;33m\u001b[0m\u001b[1;33m\u001b[0m\u001b[0m\n\u001b[0;32m     13\u001b[0m         \u001b[0my\u001b[0m \u001b[1;33m=\u001b[0m \u001b[0mnp\u001b[0m\u001b[1;33m.\u001b[0m\u001b[0mappend\u001b[0m\u001b[1;33m(\u001b[0m\u001b[0my\u001b[0m\u001b[1;33m,\u001b[0m \u001b[1;36m1\u001b[0m\u001b[1;33m)\u001b[0m \u001b[1;31m#empilha o y\u001b[0m\u001b[1;33m\u001b[0m\u001b[1;33m\u001b[0m\u001b[0m\n",
      "\u001b[1;31mIndexError\u001b[0m: list index out of range"
     ]
    }
   ],
   "source": [
    "y= np.asarray(y_train)\n",
    "index_list=[x for x in range(0, rows_train)] #indices para o novo X a partir do X original\n",
    "iteractions = 0\n",
    "position = 0\n",
    "index_labels=[x for x in range(rows_label, rows_label+ rows_unlabel)]\n",
    "\n",
    "while iteractions < 0.99:\n",
    "    iteractions = iteractions + threshold\n",
    "    for i in range(int(t_size/2)):\n",
    "        #pega um a favor\n",
    "        index = reliable_pred_favor[position][0] #descobre a posição no X_label \n",
    "        index_list.append(index+rows_label) #inclui na lista de indices\n",
    "        y = np.append(y, 1) #empilha o y\n",
    "        index_labels.remove(index+rows_label)\n",
    "        #pega um contra\n",
    "        index = reliable_pred_against[position][0] #descobre a posição no X_label \n",
    "        index_list.append(index+rows_label) #inclui na lista de indices\n",
    "        y = np.append(y, 0) #empilha o y\n",
    "        index_labels.remove(index+rows_label)\n",
    "        #anda uma posição nos dois \n",
    "        position+=1\n",
    "\n",
    "    X_train_novo = X_ori[index_list,:]#atualiza o X rotulado com os índices que estão em index_list\n",
    "    X_label = X_ori[index_labels,:] #pega só os índices que sobraram\n",
    "    rows_unlabel = X_label.get_shape()[0] #novo número de linhas sem rótulo\n",
    "    rows_label = X_train_novo.get_shape()[0] + rows_test #linhas com rótulo novas + as de teste que estão guardadas\n",
    "    X_ori = sparse.vstack([X_train_novo, x_test, X_label]) #empilha treino, teste e unlabelled\n",
    "    index_labels=[x for x in range(rows_label, rows_label+ rows_unlabel)] #atualiza os unlabelled\n",
    "    position = 0\n",
    "\n",
    "   # x_train_novo, x_test_novo, y_train_novo, y_test_novo = train_test_split(\n",
    "        #X_novo,\n",
    "        #np.asarray(y),\n",
    "        #test_size = 0.25,\n",
    "        #random_state = 123,\n",
    "       # shuffle = True,\n",
    "        #stratify = np.asarray(y),\n",
    "    #)\n",
    "\n",
    "    model_novo = LogisticRegression(random_state=0)\n",
    "    model_novo.fit(X_train_novo,y)\n",
    "    #testa nos conjuntos originais\n",
    "    pred_values_novo = model_novo.predict(x_test)     \n",
    "    acc = accuracy_score(pred_values_novo , y_test)\n",
    "    print(\"iteraction:\",iteractions, \"accuracy:\", acc)\n",
    "    \n",
    "    pred_values_label= model_novo.predict(X_label) \n",
    "    prob_label = model.predict_proba(X_label) \n",
    "    reliable_pred_favor, reliable_pred_against  = [], []\n",
    "    for x_id, (prob, pred) in enumerate(zip(prob_label, pred_values_label)):\n",
    "        (reliable_pred_favor if (pred_values_label[x_id]) else reliable_pred_against).append((x_id, prob_label[x_id,pred_values_label[x_id]], pred_values_label[x_id]))\n",
    "    \n",
    "    reliable_pred_favor = sorted(reliable_pred_favor, key=lambda x: x[1], reverse=True)\n",
    "    reliable_pred_against = sorted(reliable_pred_against, key=lambda x: x[1], reverse=True)    \n",
    "    \n",
    "    index_labels=[x for x in range(rows_label, rows_label+ rows_unlabel)]"
   ]
  },
  {
   "cell_type": "code",
   "execution_count": null,
   "metadata": {},
   "outputs": [],
   "source": [
    "len(reliable_pred_against)"
   ]
  },
  {
   "cell_type": "code",
   "execution_count": null,
   "metadata": {},
   "outputs": [],
   "source": []
  },
  {
   "cell_type": "code",
   "execution_count": null,
   "metadata": {},
   "outputs": [],
   "source": []
  }
 ],
 "metadata": {
  "kernelspec": {
   "display_name": "Python 3 (ipykernel)",
   "language": "python",
   "name": "python3"
  },
  "language_info": {
   "codemirror_mode": {
    "name": "ipython",
    "version": 3
   },
   "file_extension": ".py",
   "mimetype": "text/x-python",
   "name": "python",
   "nbconvert_exporter": "python",
   "pygments_lexer": "ipython3",
   "version": "3.8.3"
  }
 },
 "nbformat": 4,
 "nbformat_minor": 4
}
